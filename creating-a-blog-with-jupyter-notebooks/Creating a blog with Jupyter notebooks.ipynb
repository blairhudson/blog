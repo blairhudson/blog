{
 "cells": [
  {
   "cell_type": "markdown",
   "metadata": {},
   "source": [
    "Assuming you already have already [installed Jupyter notebook](/posts/using-jupyter-notebooks-with-anaconda/), you will need to do the following:\n",
    "\n",
    "## Installing and configuring a Nikola blog\n",
    "\n",
    "1. First you'll need to create a directory structure as follows:\n",
    "\n",
    "    ```\n",
    "    - /blog\n",
    "    -- /posts\n",
    "    -- /output\n",
    "    ```\n",
    "\n",
    "    * `/blog` is the root directory for everything you'll be doing with your blog\n",
    "    * `/posts` is where you'll store your Jupyter notebooks\n",
    "    * `/output` will contain the code generated for your blog\n",
    "\n",
    "2. Run the following command to install Nikola (the static website generator which will do most of the heavy lifting)<sup>[1]</sup>:\n",
    "\n",
    "    `pip install --upgrade \"Nikola[extras]\"`\n",
    "\n",
    "3. Change directory to your blog root:\n",
    "\n",
    "    `cd blog`\n",
    "\n",
    "4. Start up Nikola, following the prompts to configure your new blog:\n",
    "\n",
    "    `nikola init .`\n",
    "\n",
    "5. Open `/blog/conf.py` and change the `POSTS` and `PAGES` sections to include the lines as follows. This will allow Nikola to treat `.ipynb` files as blog posts.\n",
    "\n",
    "    ```\n",
    "    POSTS = (\n",
    "        (\"posts/*.rst\", \"posts\", \"post.tmpl\"),\n",
    "        (\"posts/*.md\", \"posts\", \"post.tmpl\"),\n",
    "        (\"posts/*.txt\", \"posts\", \"post.tmpl\"),\n",
    "        (\"posts/*.html\", \"posts\", \"post.tmpl\"),\n",
    "        (\"posts/*.ipynb\", \"posts\", \"post.tmpl\"),\n",
    "    )\n",
    "    PAGES = (\n",
    "        (\"pages/*.rst\", \"pages\", \"page.tmpl\"),\n",
    "        (\"pages/*.md\", \"pages\", \"page.tmpl\"),\n",
    "        (\"pages/*.txt\", \"pages\", \"page.tmpl\"),\n",
    "        (\"pages/*.html\", \"pages\", \"page.tmpl\"),\n",
    "        (\"pages/*.ipynb\", \"pages\", \"page.tmpl\"),\n",
    "    )\n",
    "    ```\n",
    "\n",
    "6. Write your blog post in Jupyter, saving the `.ipynb` file to `/posts`.\n",
    "\n",
    "7. You will need to explicitly add the following metadata to your notebook (in the Jupyter menu, select *Edit > Edit Notebook Metadata*). Change the metadata to match your post.<sup>[2]</sup>\n",
    "\n",
    "    ```\n",
    "    \"nikola\": {\n",
    "        \"title\": \"Creating a blog with Jupyter notebooks\",\n",
    "        \"slug\": \"creating-a-blog-with-jupyter-notebooks\",\n",
    "        \"date\": \"2017-09-09 21:09:01 UTC+10:00\"\n",
    "    }\n",
    "    ```\n",
    "\n",
    "8. Run `nikola build` each time you update your `/posts`, which will generate your site and store it in `/output`!\n",
    "\n",
    "9. If you're going to be publishing your blog on Github (like me), you can push the content of `/output` to your website repo ([example](https://github.com/blairhudson/blog)).\n",
    "\n",
    "### <sup>[1]</sup>Problems installing Nikola?\n",
    "\n",
    "I ran into some issues installing Nikola on OS X with Anaconda. Specifically, `gcc` in Anaconda was the culprit. Resolution:\n",
    "\n",
    "* `conda remove gcc` to uninstall `gcc` provided by Anaconda\n",
    "\n",
    "This will default to the system `gcc`, which you can check by running `which gcc` (which should output `/usr/bin/gcc`).\n",
    "\n",
    "If this still doesn't resolve the issue still, you may need to install a more up-to-date `gcc`:\n",
    "\n",
    "1. Install [Homebrew](https://brew.sh)\n",
    "2. `brew install gcc` (you may be prompted to install Developer Tools)\n",
    "3. `brew unlink gcc`\n",
    "4. `brew link --overwrite gcc`\n",
    "\n",
    "`which gcc` should now show `/usr/local/Cellar/gcc/7.2.0`. 👍\n",
    "\n",
    "### <sup>[2]</sup>Inferring Nikola post metadata\n",
    "\n",
    "Like me, you probably want as little as possible to come between your latest notebook hack and your awesome new blog.\n",
    "\n",
    "Nikola parses Jupyter notebooks with a plugin, which with some modification we can have infer all of the Nikola post metadata automatically. For me, the plugin file was here (though it may differ for you):\n",
    "\n",
    "`~/anaconda/lib/python3.5/site-packages/nikola/plugins/compile/ipynb.py`\n",
    "    \n",
    "To automagically infer the required metadata, you can replace the `read_metadata()` function in the file above with the following code:"
   ]
  },
  {
   "cell_type": "code",
   "execution_count": 5,
   "metadata": {
    "collapsed": true
   },
   "outputs": [],
   "source": [
    "def read_metadata(self, post, file_metadata_regexp=None, unslugify_titles=False, lang=None):\n",
    "    \"\"\"Read metadata directly from ipynb file.\n",
    "\n",
    "    As ipynb file support arbitrary metadata as json, the metadata used by Nikola\n",
    "    will be assume to be in the 'nikola' subfield.\n",
    "    \"\"\"\n",
    "    self._req_missing_ipynb()\n",
    "    if lang is None:\n",
    "        lang = LocaleBorg().current_lang\n",
    "    source = post.translated_source_path(lang)\n",
    "    with io.open(source, \"r\", encoding=\"utf8\") as in_file:\n",
    "        nb_json = nbformat.read(in_file, current_nbformat)\n",
    "    # Metadata might not exist in two-file posts or in hand-crafted\n",
    "    # .ipynb files.\n",
    "\n",
    "    # infer metadata\n",
    "    title = os.path.splitext(os.path.basename(source))[0]\n",
    "    slug = title.lower().replace(' ', '-')\n",
    "    from datetime import datetime\n",
    "    date = datetime.fromtimestamp(os.path.getctime(source)).strftime('%Y-%m-%d %k:%M:%S')\n",
    "\n",
    "    implicit = {'title':title, 'slug': slug, 'date':date}\n",
    "    explicit = nb_json.get('metadata', {}).get('nikola', {})\n",
    "    \n",
    "    # replace inference with explicit if available\n",
    "    metadata = {**implicit, **explicit}\n",
    "\n",
    "    return metadata"
   ]
  },
  {
   "cell_type": "markdown",
   "metadata": {
    "collapsed": true
   },
   "source": [
    "With this small modification, we instruct Nikola to infer the `title` and `slug` values based on the filename, and the `date` value based on the filesystem. Magical! ✨\n",
    "\n",
    "**Update:** The makers of Nikola have suggested some official methods for achieving this that are built right into the existing workflow:"
   ]
  },
  {
   "cell_type": "code",
   "execution_count": 9,
   "metadata": {},
   "outputs": [
    {
     "data": {
      "text/html": [
       "<blockquote class=\"twitter-tweet\" data-conversation=\"none\" data-lang=\"en\"><p lang=\"en\" dir=\"ltr\">Titles and slugs can be done via FILE_METADATA_REGEXP, and auto dates are prone to issues.<br>Better: import files with `nikola new_post -i`</p>&mdash; Nikola Generator (@GetNikola) <a href=\"https://twitter.com/GetNikola/status/907570254611484672\">September 12, 2017</a></blockquote> <script async src=\"//platform.twitter.com/widgets.js\" charset=\"utf-8\"></script>"
      ],
      "text/plain": [
       "<IPython.core.display.HTML object>"
      ]
     },
     "metadata": {},
     "output_type": "display_data"
    }
   ],
   "source": [
    "%%html\n",
    "<blockquote class=\"twitter-tweet\" data-conversation=\"none\" data-lang=\"en\"><p lang=\"en\" dir=\"ltr\">Titles and slugs can be done via FILE_METADATA_REGEXP, and auto dates are prone to issues.<br>Better: import files with `nikola new_post -i`</p>&mdash; Nikola Generator (@GetNikola) <a href=\"https://twitter.com/GetNikola/status/907570254611484672\">September 12, 2017</a></blockquote> <script async src=\"//platform.twitter.com/widgets.js\" charset=\"utf-8\"></script>"
   ]
  }
 ],
 "metadata": {
  "kernelspec": {
   "display_name": "Python [default]",
   "language": "python",
   "name": "python3"
  },
  "language_info": {
   "codemirror_mode": {
    "name": "ipython",
    "version": 3
   },
   "file_extension": ".py",
   "mimetype": "text/x-python",
   "name": "python",
   "nbconvert_exporter": "python",
   "pygments_lexer": "ipython3",
   "version": "3.5.3"
  }
 },
 "nbformat": 4,
 "nbformat_minor": 2
}

{
 "cells": [
  {
   "cell_type": "markdown",
   "metadata": {},
   "source": [
    "One common technique for interpreting the outputs of a single classification model is kernel density estimation (KDE). Similar to a histogram, a KDE plot allows us to estimate the underlying probability density of our model.\n",
    "\n",
    "This is particularly useful for visualising the impact of selecting different classification thresholds (i.e. deciding at what point to round a given probability to 1 or 0).\n",
    "\n",
    "You can apply this visualisation technique to multi-task classifcation too. This uses bivariate KDE, which also generalises to multivariate KDE. Unforunately we're constrained to two tasks, given the limitation of having only two axes on 2D plots.\n",
    "\n",
    "To achieve this, we're going to create a suitable test dataset based on the Digits classification data, train a Random Forest Classifier using two labels, and output a bivariate KDE plot using the Seaborn visualisation library.\n",
    "\n",
    "## Preparing data for multi-task learning\n",
    "\n",
    "To simulate multi-task learning, we're going to load three classes of the Digits data (i.e. digits 0, 1 and 2), and break this into labels for two binary tasks:\n",
    "\n",
    "1. the digit is one\n",
    "2. the digit is two\n",
    "\n",
    "(In the case that the digit is zero, both tasks will have a False label.)\n",
    "\n",
    "Before training our model, we'll also consolidate the two label sets into a single 2 x N set."
   ]
  },
  {
   "cell_type": "code",
   "execution_count": 1,
   "metadata": {},
   "outputs": [],
   "source": [
    "from sklearn.datasets import load_digits\n",
    "import numpy as np\n",
    "\n",
    "X, y = load_digits(return_X_y=True, n_class=3)\n",
    "\n",
    "y_task1 = y == 1\n",
    "y_task2 = y == 2\n",
    "\n",
    "y_multitask = np.stack((y_task1,y_task2), axis=-1)"
   ]
  },
  {
   "cell_type": "markdown",
   "metadata": {},
   "source": [
    "## Training a multi-task Random Forest classifier\n",
    "\n",
    "After splitting our data into train and test sets, we'll train the classifier and split the predicted probabilities into two sets:\n",
    "\n",
    "1. probability that the digit is one\n",
    "2. probability that the digit is two"
   ]
  },
  {
   "cell_type": "code",
   "execution_count": 14,
   "metadata": {},
   "outputs": [],
   "source": [
    "from sklearn.ensemble import RandomForestClassifier\n",
    "from sklearn.model_selection import train_test_split\n",
    "\n",
    "X_train, X_test, y_train, y_test = train_test_split(X, y_multitask, test_size=0.4, random_state=1234)\n",
    "\n",
    "model = RandomForestClassifier(random_state=1234)\n",
    "model.fit(X_train, y_train)\n",
    "\n",
    "y_hat = model.predict_proba(X_test)\n",
    "y_task1_hat = y_hat[0][:,1]\n",
    "y_task2_hat = y_hat[1][:,1]"
   ]
  },
  {
   "cell_type": "markdown",
   "metadata": {},
   "source": [
    "## Visualisation bivariate KDE with Seaborn\n",
    "\n",
    "Seaborn (a set of extensions over Matplotlib) comes to the rescue with the built-in KDE plot function. The function accepts two data sets, one for the X-axis (in this case, task 1) and one fo the Y-axis (task 2).\n",
    "\n",
    "We've also constrained the axis to the range (0,1). Without this, the full range of the KDE function will be plotted, going below 0% and above 100%, which doesn't make sense in the context of our problem (or any binary classification task)."
   ]
  },
  {
   "cell_type": "code",
   "execution_count": 13,
   "metadata": {},
   "outputs": [
    {
     "data": {
      "image/png": "[encoded data removed]",
      "text/plain": [
       "<matplotlib.figure.Figure at 0x11a815400>"
      ]
     },
     "metadata": {},
     "output_type": "display_data"
    }
   ],
   "source": [
    "%matplotlib inline\n",
    "import seaborn as sns\n",
    "from matplotlib import pyplot as plt\n",
    "kdeplot = sns.kdeplot(y_task1_hat, y_task2_hat, shade=True, legend=True)\n",
    "plt.axvline(x=0.5, color='grey', linewidth=1, linestyle='dotted')\n",
    "plt.axhline(y=0.5, color='grey', linewidth=1, linestyle='dotted')\n",
    "kdeplot.set(xlabel='P(Task 1)', ylabel='P(Task 2)')\n",
    "plt.xlim(0,1)\n",
    "plt.ylim(0,1);"
   ]
  },
  {
   "cell_type": "markdown",
   "metadata": {},
   "source": [
    "The bivariate KDE plot makes the probability densities for our two learning tasks clear, and as you would expect, demonstrates that it is not likely for a given case to have a high probability for both tasks simulatenously."
   ]
  }
 ],
 "metadata": {
  "kernelspec": {
   "display_name": "Python [default]",
   "language": "python",
   "name": "python3"
  },
  "language_info": {
   "codemirror_mode": {
    "name": "ipython",
    "version": 3
   },
   "file_extension": ".py",
   "mimetype": "text/x-python",
   "name": "python",
   "nbconvert_exporter": "python",
   "pygments_lexer": "ipython3",
   "version": "3.5.3"
  }
 },
 "nbformat": 4,
 "nbformat_minor": 2
}

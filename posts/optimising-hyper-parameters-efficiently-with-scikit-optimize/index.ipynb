{
 "cells": [
  {
   "cell_type": "markdown",
   "metadata": {},
   "source": [
    "One of the most well-known techniques for experimenting with various model configurations is _Grid Search_.\n",
    "\n",
    "With grid search, you specify a discrete search space (a parameter grid) of all of the parameter values you would like to test. The search permutes through the grid, testing various combinations until all are exhausted. Basic a specified performance metric (e.g. error), you can select the best parameter combination for your model.\n",
    "\n",
    "What's wrong with this?\n",
    "\n",
    "If you have a large parameter grid, this doesn't work too well:"
   ]
  },
  {
   "cell_type": "code",
   "execution_count": 1,
   "metadata": {},
   "outputs": [
    {
     "data": {
      "text/plain": [
       "27"
      ]
     },
     "execution_count": 1,
     "metadata": {},
     "output_type": "execute_result"
    }
   ],
   "source": [
    "import numpy as np\n",
    "\n",
    "param_grid = {\n",
    "    'param_a': [0.01, 0.03, 0.1],\n",
    "    'param_b': [0, 1, 2],\n",
    "    'param_c': [1, 50, 100]\n",
    "}\n",
    "\n",
    "def num_searches(param_grid):\n",
    "    return np.prod([len(p) for p in param_grid.values()])\n",
    "    \n",
    "num_searches(param_grid)"
   ]
  },
  {
   "cell_type": "markdown",
   "metadata": {},
   "source": [
    "And maybe we want to search over four possible values instead for `param_a`, and add two more new parameters:"
   ]
  },
  {
   "cell_type": "code",
   "execution_count": 2,
   "metadata": {},
   "outputs": [
    {
     "data": {
      "text/plain": [
       "216"
      ]
     },
     "execution_count": 2,
     "metadata": {},
     "output_type": "execute_result"
    }
   ],
   "source": [
    "param_grid = {\n",
    "    'param_a': [0.01, 0.03, 0.1, 0.3],\n",
    "    'param_b': [0, 1, 2],\n",
    "    'param_c': [1, 50, 100],\n",
    "    'param_d': [\"a\", \"b\"],\n",
    "    'param_e': [0, 1, 2]\n",
    "}\n",
    "\n",
    "num_searches(param_grid)"
   ]
  },
  {
   "cell_type": "markdown",
   "metadata": {},
   "source": [
    "As you can see from the first grid, there's already 27 combinations to try. Then this jumps to 216 for our larger grid. Depending on the complexity of the model and the amount of data to process, this can very easily become infeasible.\n",
    "\n",
    "There are a few approaches to solving this, including:\n",
    "\n",
    "* breaking down the search into multiple smaller steps (such as searching `param_a` and `param_b` first, with defaults for the others, then using the best values to search the remaining parameters - this can be tricky in practice)\n",
    "* searching the parameter space [at random](http://scikit-learn.org/stable/modules/generated/sklearn.model_selection.RandomizedSearchCV.html) (which has an additional benefit of discovering better parameter values when random samples are drawn frmo a continuous range)\n",
    "\n",
    "While Scikit-Learn doesn't provide many more options, some [clever people](https://github.com/scikit-optimize/scikit-optimize/blob/master/AUTHORS.md) have developed a drop-in replacement for Scikit-Learn's `GridSearchCV` and `RandomizedSearchCV` called `BayesSearchCV` in a package called *Scikit-Optimize*.\n",
    "\n",
    "Let's install Scikit-Optimize and implement `BayesSearchCV` with a simple example!\n",
    "\n",
    "## Installing Scikit-Optimize\n",
    "\n",
    "Assuming you already have already [installed Anaconda and Jupyter](/posts/using-jupyter-notebooks-with-anaconda/), you will need to do the following:\n",
    "\n",
    "* `pip install scikit-optimize`\n",
    "\n",
    "If you have trouble installing, you may first need to run the following to install one of Scikit-Optmize's dependencies:\n",
    "\n",
    "* `pip install scikit-garden`\n",
    "\n",
    "## Implementing `BayesSearchCV`\n",
    "\n",
    "Here's an example implementation using a sample dataset and [Logistic Regression](http://scikit-learn.org/stable/modules/generated/sklearn.linear_model.LogisticRegression.html)."
   ]
  },
  {
   "cell_type": "code",
   "execution_count": 3,
   "metadata": {
    "scrolled": true
   },
   "outputs": [
    {
     "name": "stderr",
     "output_type": "stream",
     "text": [
      "/Users/blairhudson/anaconda/lib/python3.5/site-packages/sklearn/model_selection/_split.py:2010: FutureWarning: From version 0.21, test_size will always complement train_size unless both are specified.\n",
      "  FutureWarning)\n",
      "/Users/blairhudson/anaconda/lib/python3.5/site-packages/sklearn/linear_model/sag.py:326: ConvergenceWarning: The max_iter was reached which means the coef_ did not converge\n",
      "  \"the coef_ did not converge\", ConvergenceWarning)\n",
      "[Parallel(n_jobs=1)]: Done   1 out of   1 | elapsed:    0.1s remaining:    0.0s\n",
      "/Users/blairhudson/anaconda/lib/python3.5/site-packages/sklearn/linear_model/sag.py:326: ConvergenceWarning: The max_iter was reached which means the coef_ did not converge\n",
      "  \"the coef_ did not converge\", ConvergenceWarning)\n",
      "/Users/blairhudson/anaconda/lib/python3.5/site-packages/sklearn/linear_model/sag.py:326: ConvergenceWarning: The max_iter was reached which means the coef_ did not converge\n",
      "  \"the coef_ did not converge\", ConvergenceWarning)\n",
      "[Parallel(n_jobs=1)]: Done   3 out of   3 | elapsed:    0.2s finished\n"
     ]
    },
    {
     "name": "stdout",
     "output_type": "stream",
     "text": [
      "Fitting 3 folds for each of 1 candidates, totalling 3 fits\n",
      "[CV] fit_intercept=True, tol=0.000382254605256, C=0.000825787721576, solver=saga, penalty=l2 \n",
      "[CV]  fit_intercept=True, tol=0.000382254605256, C=0.000825787721576, solver=saga, penalty=l2, total=   0.1s\n",
      "[CV] fit_intercept=True, tol=0.000382254605256, C=0.000825787721576, solver=saga, penalty=l2 \n",
      "[CV]  fit_intercept=True, tol=0.000382254605256, C=0.000825787721576, solver=saga, penalty=l2, total=   0.0s\n",
      "[CV] fit_intercept=True, tol=0.000382254605256, C=0.000825787721576, solver=saga, penalty=l2 \n",
      "[CV]  fit_intercept=True, tol=0.000382254605256, C=0.000825787721576, solver=saga, penalty=l2, total=   0.0s\n"
     ]
    },
    {
     "name": "stderr",
     "output_type": "stream",
     "text": [
      "/Users/blairhudson/anaconda/lib/python3.5/site-packages/sklearn/linear_model/sag.py:326: ConvergenceWarning: The max_iter was reached which means the coef_ did not converge\n",
      "  \"the coef_ did not converge\", ConvergenceWarning)\n",
      "/Users/blairhudson/anaconda/lib/python3.5/site-packages/sklearn/linear_model/sag.py:326: ConvergenceWarning: The max_iter was reached which means the coef_ did not converge\n",
      "  \"the coef_ did not converge\", ConvergenceWarning)\n",
      "[Parallel(n_jobs=1)]: Done   1 out of   1 | elapsed:    0.0s remaining:    0.0s\n",
      "/Users/blairhudson/anaconda/lib/python3.5/site-packages/sklearn/linear_model/sag.py:326: ConvergenceWarning: The max_iter was reached which means the coef_ did not converge\n",
      "  \"the coef_ did not converge\", ConvergenceWarning)\n",
      "/Users/blairhudson/anaconda/lib/python3.5/site-packages/sklearn/linear_model/sag.py:326: ConvergenceWarning: The max_iter was reached which means the coef_ did not converge\n",
      "  \"the coef_ did not converge\", ConvergenceWarning)\n",
      "[Parallel(n_jobs=1)]: Done   3 out of   3 | elapsed:    0.1s finished\n",
      "/Users/blairhudson/anaconda/lib/python3.5/site-packages/sklearn/linear_model/sag.py:326: ConvergenceWarning: The max_iter was reached which means the coef_ did not converge\n",
      "  \"the coef_ did not converge\", ConvergenceWarning)\n",
      "[Parallel(n_jobs=1)]: Done   1 out of   1 | elapsed:    0.0s remaining:    0.0s\n",
      "[Parallel(n_jobs=1)]: Done   3 out of   3 | elapsed:    0.0s finished\n",
      "/Users/blairhudson/anaconda/lib/python3.5/site-packages/sklearn/linear_model/sag.py:326: ConvergenceWarning: The max_iter was reached which means the coef_ did not converge\n",
      "  \"the coef_ did not converge\", ConvergenceWarning)\n",
      "[Parallel(n_jobs=1)]: Done   1 out of   1 | elapsed:    0.0s remaining:    0.0s\n",
      "[Parallel(n_jobs=1)]: Done   3 out of   3 | elapsed:    0.0s finished\n"
     ]
    },
    {
     "name": "stdout",
     "output_type": "stream",
     "text": [
      "Fitting 3 folds for each of 1 candidates, totalling 3 fits\n",
      "[CV] fit_intercept=True, tol=0.000555351500381, C=0.243756153601, solver=saga, penalty=l2 \n",
      "[CV]  fit_intercept=True, tol=0.000555351500381, C=0.243756153601, solver=saga, penalty=l2, total=   0.0s\n",
      "[CV] fit_intercept=True, tol=0.000555351500381, C=0.243756153601, solver=saga, penalty=l2 \n",
      "[CV]  fit_intercept=True, tol=0.000555351500381, C=0.243756153601, solver=saga, penalty=l2, total=   0.0s\n",
      "[CV] fit_intercept=True, tol=0.000555351500381, C=0.243756153601, solver=saga, penalty=l2 \n",
      "[CV]  fit_intercept=True, tol=0.000555351500381, C=0.243756153601, solver=saga, penalty=l2, total=   0.0s\n",
      "Fitting 3 folds for each of 1 candidates, totalling 3 fits\n",
      "[CV] fit_intercept=True, tol=0.00021856668705, C=0.000379398151643, solver=liblinear, penalty=l1 \n",
      "[CV]  fit_intercept=True, tol=0.00021856668705, C=0.000379398151643, solver=liblinear, penalty=l1, total=   0.0s\n",
      "[CV] fit_intercept=True, tol=0.00021856668705, C=0.000379398151643, solver=liblinear, penalty=l1 \n",
      "[CV]  fit_intercept=True, tol=0.00021856668705, C=0.000379398151643, solver=liblinear, penalty=l1, total=   0.0s\n",
      "[CV] fit_intercept=True, tol=0.00021856668705, C=0.000379398151643, solver=liblinear, penalty=l1 \n",
      "[CV]  fit_intercept=True, tol=0.00021856668705, C=0.000379398151643, solver=liblinear, penalty=l1, total=   0.0s\n",
      "Fitting 3 folds for each of 1 candidates, totalling 3 fits\n",
      "[CV] fit_intercept=True, tol=0.000102890478113, C=0.00840588302113, solver=liblinear, penalty=l2 \n",
      "[CV]  fit_intercept=True, tol=0.000102890478113, C=0.00840588302113, solver=liblinear, penalty=l2, total=   0.0s\n",
      "[CV] fit_intercept=True, tol=0.000102890478113, C=0.00840588302113, solver=liblinear, penalty=l2 \n",
      "[CV]  fit_intercept=True, tol=0.000102890478113, C=0.00840588302113, solver=liblinear, penalty=l2, total=   0.0s\n",
      "[CV] fit_intercept=True, tol=0.000102890478113, C=0.00840588302113, solver=liblinear, penalty=l2 \n",
      "[CV]  fit_intercept=True, tol=0.000102890478113, C=0.00840588302113, solver=liblinear, penalty=l2, total=   0.0s\n",
      "Fitting 3 folds for each of 1 candidates, totalling 3 fits\n",
      "[CV] fit_intercept=True, tol=0.000920403419315, C=0.00194382983221, solver=saga, penalty=l1 \n",
      "[CV]  fit_intercept=True, tol=0.000920403419315, C=0.00194382983221, solver=saga, penalty=l1, total=   0.0s\n",
      "[CV] fit_intercept=True, tol=0.000920403419315, C=0.00194382983221, solver=saga, penalty=l1 \n",
      "[CV]  fit_intercept=True, tol=0.000920403419315, C=0.00194382983221, solver=saga, penalty=l1, total=   0.0s\n",
      "[CV] fit_intercept=True, tol=0.000920403419315, C=0.00194382983221, solver=saga, penalty=l1 \n",
      "[CV]  fit_intercept=True, tol=0.000920403419315, C=0.00194382983221, solver=saga, penalty=l1, total=   0.0s\n",
      "Fitting 3 folds for each of 1 candidates, totalling 3 fits\n",
      "[CV] fit_intercept=True, tol=3.94082520634e-05, C=0.000130052012491, solver=liblinear, penalty=l1 \n",
      "[CV]  fit_intercept=True, tol=3.94082520634e-05, C=0.000130052012491, solver=liblinear, penalty=l1, total=   0.0s\n",
      "[CV] fit_intercept=True, tol=3.94082520634e-05, C=0.000130052012491, solver=liblinear, penalty=l1 \n",
      "[CV]  fit_intercept=True, tol=3.94082520634e-05, C=0.000130052012491, solver=liblinear, penalty=l1, total=   0.0s\n",
      "[CV] fit_intercept=True, tol=3.94082520634e-05, C=0.000130052012491, solver=liblinear, penalty=l1 \n",
      "[CV]  fit_intercept=True, tol=3.94082520634e-05, C=0.000130052012491, solver=liblinear, penalty=l1, total=   0.0s\n",
      "Fitting 3 folds for each of 1 candidates, totalling 3 fits\n",
      "[CV] fit_intercept=False, tol=0.000349866443736, C=0.704155417474, solver=saga, penalty=l2 \n",
      "[CV]  fit_intercept=False, tol=0.000349866443736, C=0.704155417474, solver=saga, penalty=l2, total=   0.0s\n",
      "[CV] fit_intercept=False, tol=0.000349866443736, C=0.704155417474, solver=saga, penalty=l2 \n",
      "[CV]  fit_intercept=False, tol=0.000349866443736, C=0.704155417474, solver=saga, penalty=l2, total=   0.0s\n",
      "[CV] fit_intercept=False, tol=0.000349866443736, C=0.704155417474, solver=saga, penalty=l2 \n",
      "[CV]  fit_intercept=False, tol=0.000349866443736, C=0.704155417474, solver=saga, penalty=l2, total=   0.0s\n"
     ]
    },
    {
     "name": "stderr",
     "output_type": "stream",
     "text": [
      "/Users/blairhudson/anaconda/lib/python3.5/site-packages/sklearn/linear_model/sag.py:326: ConvergenceWarning: The max_iter was reached which means the coef_ did not converge\n",
      "  \"the coef_ did not converge\", ConvergenceWarning)\n",
      "[Parallel(n_jobs=1)]: Done   1 out of   1 | elapsed:    0.0s remaining:    0.0s\n",
      "/Users/blairhudson/anaconda/lib/python3.5/site-packages/sklearn/linear_model/sag.py:326: ConvergenceWarning: The max_iter was reached which means the coef_ did not converge\n",
      "  \"the coef_ did not converge\", ConvergenceWarning)\n",
      "/Users/blairhudson/anaconda/lib/python3.5/site-packages/sklearn/linear_model/sag.py:326: ConvergenceWarning: The max_iter was reached which means the coef_ did not converge\n",
      "  \"the coef_ did not converge\", ConvergenceWarning)\n",
      "[Parallel(n_jobs=1)]: Done   3 out of   3 | elapsed:    0.1s finished\n",
      "[Parallel(n_jobs=1)]: Done   1 out of   1 | elapsed:    0.0s remaining:    0.0s\n",
      "[Parallel(n_jobs=1)]: Done   3 out of   3 | elapsed:    0.0s finished\n",
      "/Users/blairhudson/anaconda/lib/python3.5/site-packages/sklearn/linear_model/sag.py:326: ConvergenceWarning: The max_iter was reached which means the coef_ did not converge\n",
      "  \"the coef_ did not converge\", ConvergenceWarning)\n",
      "[Parallel(n_jobs=1)]: Done   1 out of   1 | elapsed:    0.0s remaining:    0.0s\n",
      "/Users/blairhudson/anaconda/lib/python3.5/site-packages/sklearn/linear_model/sag.py:326: ConvergenceWarning: The max_iter was reached which means the coef_ did not converge\n",
      "  \"the coef_ did not converge\", ConvergenceWarning)\n",
      "/Users/blairhudson/anaconda/lib/python3.5/site-packages/sklearn/linear_model/sag.py:326: ConvergenceWarning: The max_iter was reached which means the coef_ did not converge\n",
      "  \"the coef_ did not converge\", ConvergenceWarning)\n",
      "[Parallel(n_jobs=1)]: Done   3 out of   3 | elapsed:    0.1s finished\n",
      "[Parallel(n_jobs=1)]: Done   1 out of   1 | elapsed:    0.0s remaining:    0.0s\n"
     ]
    },
    {
     "name": "stdout",
     "output_type": "stream",
     "text": [
      "Fitting 3 folds for each of 1 candidates, totalling 3 fits\n",
      "[CV] fit_intercept=False, tol=0.000550604891749, C=1.95909841601, solver=liblinear, penalty=l2 \n",
      "[CV]  fit_intercept=False, tol=0.000550604891749, C=1.95909841601, solver=liblinear, penalty=l2, total=   0.0s\n",
      "[CV] fit_intercept=False, tol=0.000550604891749, C=1.95909841601, solver=liblinear, penalty=l2 \n",
      "[CV]  fit_intercept=False, tol=0.000550604891749, C=1.95909841601, solver=liblinear, penalty=l2, total=   0.0s\n",
      "[CV] fit_intercept=False, tol=0.000550604891749, C=1.95909841601, solver=liblinear, penalty=l2 \n",
      "[CV]  fit_intercept=False, tol=0.000550604891749, C=1.95909841601, solver=liblinear, penalty=l2, total=   0.0s\n",
      "Fitting 3 folds for each of 1 candidates, totalling 3 fits\n",
      "[CV] fit_intercept=True, tol=2.57731741777e-05, C=0.0933134709093, solver=saga, penalty=l1 \n",
      "[CV]  fit_intercept=True, tol=2.57731741777e-05, C=0.0933134709093, solver=saga, penalty=l1, total=   0.0s\n",
      "[CV] fit_intercept=True, tol=2.57731741777e-05, C=0.0933134709093, solver=saga, penalty=l1 \n",
      "[CV]  fit_intercept=True, tol=2.57731741777e-05, C=0.0933134709093, solver=saga, penalty=l1, total=   0.0s\n",
      "[CV] fit_intercept=True, tol=2.57731741777e-05, C=0.0933134709093, solver=saga, penalty=l1 \n",
      "[CV]  fit_intercept=True, tol=2.57731741777e-05, C=0.0933134709093, solver=saga, penalty=l1, total=   0.0s\n"
     ]
    },
    {
     "name": "stderr",
     "output_type": "stream",
     "text": [
      "[Parallel(n_jobs=1)]: Done   3 out of   3 | elapsed:    0.0s finished\n",
      "/Users/blairhudson/anaconda/lib/python3.5/site-packages/sklearn/linear_model/sag.py:326: ConvergenceWarning: The max_iter was reached which means the coef_ did not converge\n",
      "  \"the coef_ did not converge\", ConvergenceWarning)\n",
      "[Parallel(n_jobs=1)]: Done   1 out of   1 | elapsed:    0.0s remaining:    0.0s\n",
      "/Users/blairhudson/anaconda/lib/python3.5/site-packages/sklearn/linear_model/sag.py:326: ConvergenceWarning: The max_iter was reached which means the coef_ did not converge\n",
      "  \"the coef_ did not converge\", ConvergenceWarning)\n",
      "/Users/blairhudson/anaconda/lib/python3.5/site-packages/sklearn/linear_model/sag.py:326: ConvergenceWarning: The max_iter was reached which means the coef_ did not converge\n",
      "  \"the coef_ did not converge\", ConvergenceWarning)\n",
      "[Parallel(n_jobs=1)]: Done   3 out of   3 | elapsed:    0.1s finished\n"
     ]
    },
    {
     "name": "stdout",
     "output_type": "stream",
     "text": [
      "Fitting 3 folds for each of 1 candidates, totalling 3 fits\n",
      "[CV] fit_intercept=False, tol=5.06278923847e-05, C=5.86409384188, solver=saga, penalty=l2 \n",
      "[CV]  fit_intercept=False, tol=5.06278923847e-05, C=5.86409384188, solver=saga, penalty=l2, total=   0.0s\n",
      "[CV] fit_intercept=False, tol=5.06278923847e-05, C=5.86409384188, solver=saga, penalty=l2 \n",
      "[CV]  fit_intercept=False, tol=5.06278923847e-05, C=5.86409384188, solver=saga, penalty=l2, total=   0.0s\n",
      "[CV] fit_intercept=False, tol=5.06278923847e-05, C=5.86409384188, solver=saga, penalty=l2 \n",
      "[CV]  fit_intercept=False, tol=5.06278923847e-05, C=5.86409384188, solver=saga, penalty=l2, total=   0.0s\n"
     ]
    },
    {
     "name": "stderr",
     "output_type": "stream",
     "text": [
      "/Users/blairhudson/anaconda/lib/python3.5/site-packages/sklearn/linear_model/sag.py:326: ConvergenceWarning: The max_iter was reached which means the coef_ did not converge\n",
      "  \"the coef_ did not converge\", ConvergenceWarning)\n",
      "[Parallel(n_jobs=1)]: Done   1 out of   1 | elapsed:    0.0s remaining:    0.0s\n",
      "/Users/blairhudson/anaconda/lib/python3.5/site-packages/sklearn/linear_model/sag.py:326: ConvergenceWarning: The max_iter was reached which means the coef_ did not converge\n",
      "  \"the coef_ did not converge\", ConvergenceWarning)\n",
      "/Users/blairhudson/anaconda/lib/python3.5/site-packages/sklearn/linear_model/sag.py:326: ConvergenceWarning: The max_iter was reached which means the coef_ did not converge\n",
      "  \"the coef_ did not converge\", ConvergenceWarning)\n",
      "[Parallel(n_jobs=1)]: Done   3 out of   3 | elapsed:    0.1s finished\n"
     ]
    },
    {
     "name": "stdout",
     "output_type": "stream",
     "text": [
      "Fitting 3 folds for each of 1 candidates, totalling 3 fits\n",
      "[CV] fit_intercept=False, tol=0.001, C=100.0, solver=liblinear, penalty=l2 \n",
      "[CV]  fit_intercept=False, tol=0.001, C=100.0, solver=liblinear, penalty=l2, total=   0.0s\n",
      "[CV] fit_intercept=False, tol=0.001, C=100.0, solver=liblinear, penalty=l2 \n",
      "[CV]  fit_intercept=False, tol=0.001, C=100.0, solver=liblinear, penalty=l2, total=   0.0s\n",
      "[CV] fit_intercept=False, tol=0.001, C=100.0, solver=liblinear, penalty=l2 \n",
      "[CV]  fit_intercept=False, tol=0.001, C=100.0, solver=liblinear, penalty=l2, total=   0.0s\n"
     ]
    },
    {
     "name": "stderr",
     "output_type": "stream",
     "text": [
      "[Parallel(n_jobs=1)]: Done   1 out of   1 | elapsed:    0.0s remaining:    0.0s\n",
      "[Parallel(n_jobs=1)]: Done   3 out of   3 | elapsed:    0.0s finished\n"
     ]
    },
    {
     "name": "stdout",
     "output_type": "stream",
     "text": [
      "Fitting 3 folds for each of 1 candidates, totalling 3 fits\n",
      "[CV] fit_intercept=True, tol=0.001, C=0.00171621716873, solver=liblinear, penalty=l1 \n",
      "[CV]  fit_intercept=True, tol=0.001, C=0.00171621716873, solver=liblinear, penalty=l1, total=   0.0s\n",
      "[CV] fit_intercept=True, tol=0.001, C=0.00171621716873, solver=liblinear, penalty=l1 \n",
      "[CV]  fit_intercept=True, tol=0.001, C=0.00171621716873, solver=liblinear, penalty=l1, total=   0.0s\n",
      "[CV] fit_intercept=True, tol=0.001, C=0.00171621716873, solver=liblinear, penalty=l1 \n",
      "[CV]  fit_intercept=True, tol=0.001, C=0.00171621716873, solver=liblinear, penalty=l1, total=   0.0s\n"
     ]
    },
    {
     "name": "stderr",
     "output_type": "stream",
     "text": [
      "[Parallel(n_jobs=1)]: Done   1 out of   1 | elapsed:    0.0s remaining:    0.0s\n",
      "[Parallel(n_jobs=1)]: Done   3 out of   3 | elapsed:    0.0s finished\n"
     ]
    },
    {
     "name": "stdout",
     "output_type": "stream",
     "text": [
      "Fitting 3 folds for each of 1 candidates, totalling 3 fits\n",
      "[CV] fit_intercept=False, tol=0.000742149491069, C=4.65040156797, solver=liblinear, penalty=l2 \n",
      "[CV]  fit_intercept=False, tol=0.000742149491069, C=4.65040156797, solver=liblinear, penalty=l2, total=   0.0s\n",
      "[CV] fit_intercept=False, tol=0.000742149491069, C=4.65040156797, solver=liblinear, penalty=l2 \n",
      "[CV]  fit_intercept=False, tol=0.000742149491069, C=4.65040156797, solver=liblinear, penalty=l2, total=   0.0s\n",
      "[CV] fit_intercept=False, tol=0.000742149491069, C=4.65040156797, solver=liblinear, penalty=l2 \n",
      "[CV]  fit_intercept=False, tol=0.000742149491069, C=4.65040156797, solver=liblinear, penalty=l2, total=   0.0s\n"
     ]
    },
    {
     "name": "stderr",
     "output_type": "stream",
     "text": [
      "[Parallel(n_jobs=1)]: Done   1 out of   1 | elapsed:    0.0s remaining:    0.0s\n",
      "[Parallel(n_jobs=1)]: Done   3 out of   3 | elapsed:    0.0s finished\n"
     ]
    },
    {
     "name": "stdout",
     "output_type": "stream",
     "text": [
      "Fitting 3 folds for each of 1 candidates, totalling 3 fits\n",
      "[CV] fit_intercept=False, tol=0.000289050608323, C=100.0, solver=liblinear, penalty=l2 \n",
      "[CV]  fit_intercept=False, tol=0.000289050608323, C=100.0, solver=liblinear, penalty=l2, total=   0.0s\n",
      "[CV] fit_intercept=False, tol=0.000289050608323, C=100.0, solver=liblinear, penalty=l2 \n",
      "[CV]  fit_intercept=False, tol=0.000289050608323, C=100.0, solver=liblinear, penalty=l2, total=   0.0s\n",
      "[CV] fit_intercept=False, tol=0.000289050608323, C=100.0, solver=liblinear, penalty=l2 \n",
      "[CV]  fit_intercept=False, tol=0.000289050608323, C=100.0, solver=liblinear, penalty=l2, total=   0.0s\n"
     ]
    },
    {
     "name": "stderr",
     "output_type": "stream",
     "text": [
      "[Parallel(n_jobs=1)]: Done   1 out of   1 | elapsed:    0.0s remaining:    0.0s\n",
      "[Parallel(n_jobs=1)]: Done   3 out of   3 | elapsed:    0.0s finished\n"
     ]
    },
    {
     "name": "stdout",
     "output_type": "stream",
     "text": [
      "Fitting 3 folds for each of 1 candidates, totalling 3 fits\n",
      "[CV] fit_intercept=False, tol=1e-05, C=100.0, solver=liblinear, penalty=l2 \n",
      "[CV]  fit_intercept=False, tol=1e-05, C=100.0, solver=liblinear, penalty=l2, total=   0.0s\n",
      "[CV] fit_intercept=False, tol=1e-05, C=100.0, solver=liblinear, penalty=l2 \n",
      "[CV]  fit_intercept=False, tol=1e-05, C=100.0, solver=liblinear, penalty=l2, total=   0.0s\n",
      "[CV] fit_intercept=False, tol=1e-05, C=100.0, solver=liblinear, penalty=l2 \n",
      "[CV]  fit_intercept=False, tol=1e-05, C=100.0, solver=liblinear, penalty=l2, total=   0.0s\n"
     ]
    },
    {
     "name": "stderr",
     "output_type": "stream",
     "text": [
      "[Parallel(n_jobs=1)]: Done   1 out of   1 | elapsed:    0.0s remaining:    0.0s\n",
      "[Parallel(n_jobs=1)]: Done   3 out of   3 | elapsed:    0.0s finished\n"
     ]
    },
    {
     "name": "stdout",
     "output_type": "stream",
     "text": [
      "Fitting 3 folds for each of 1 candidates, totalling 3 fits\n",
      "[CV] fit_intercept=False, tol=0.000157629057632, C=100.0, solver=saga, penalty=l1 \n",
      "[CV]  fit_intercept=False, tol=0.000157629057632, C=100.0, solver=saga, penalty=l1, total=   0.0s\n",
      "[CV] fit_intercept=False, tol=0.000157629057632, C=100.0, solver=saga, penalty=l1 \n",
      "[CV]  fit_intercept=False, tol=0.000157629057632, C=100.0, solver=saga, penalty=l1, total=   0.0s\n",
      "[CV] fit_intercept=False, tol=0.000157629057632, C=100.0, solver=saga, penalty=l1 \n",
      "[CV]  fit_intercept=False, tol=0.000157629057632, C=100.0, solver=saga, penalty=l1, total=   0.0s\n"
     ]
    },
    {
     "name": "stderr",
     "output_type": "stream",
     "text": [
      "/Users/blairhudson/anaconda/lib/python3.5/site-packages/sklearn/linear_model/sag.py:326: ConvergenceWarning: The max_iter was reached which means the coef_ did not converge\n",
      "  \"the coef_ did not converge\", ConvergenceWarning)\n",
      "[Parallel(n_jobs=1)]: Done   1 out of   1 | elapsed:    0.0s remaining:    0.0s\n",
      "/Users/blairhudson/anaconda/lib/python3.5/site-packages/sklearn/linear_model/sag.py:326: ConvergenceWarning: The max_iter was reached which means the coef_ did not converge\n",
      "  \"the coef_ did not converge\", ConvergenceWarning)\n",
      "/Users/blairhudson/anaconda/lib/python3.5/site-packages/sklearn/linear_model/sag.py:326: ConvergenceWarning: The max_iter was reached which means the coef_ did not converge\n",
      "  \"the coef_ did not converge\", ConvergenceWarning)\n",
      "[Parallel(n_jobs=1)]: Done   3 out of   3 | elapsed:    0.1s finished\n"
     ]
    },
    {
     "name": "stdout",
     "output_type": "stream",
     "text": [
      "Fitting 3 folds for each of 1 candidates, totalling 3 fits\n",
      "[CV] fit_intercept=True, tol=1e-05, C=1e-05, solver=saga, penalty=l2 .\n",
      "[CV]  fit_intercept=True, tol=1e-05, C=1e-05, solver=saga, penalty=l2, total=   0.0s\n",
      "[CV] fit_intercept=True, tol=1e-05, C=1e-05, solver=saga, penalty=l2 .\n",
      "[CV]  fit_intercept=True, tol=1e-05, C=1e-05, solver=saga, penalty=l2, total=   0.0s\n",
      "[CV] fit_intercept=True, tol=1e-05, C=1e-05, solver=saga, penalty=l2 .\n",
      "[CV]  fit_intercept=True, tol=1e-05, C=1e-05, solver=saga, penalty=l2, total=   0.0s\n"
     ]
    },
    {
     "name": "stderr",
     "output_type": "stream",
     "text": [
      "/Users/blairhudson/anaconda/lib/python3.5/site-packages/sklearn/linear_model/sag.py:326: ConvergenceWarning: The max_iter was reached which means the coef_ did not converge\n",
      "  \"the coef_ did not converge\", ConvergenceWarning)\n",
      "[Parallel(n_jobs=1)]: Done   1 out of   1 | elapsed:    0.0s remaining:    0.0s\n",
      "/Users/blairhudson/anaconda/lib/python3.5/site-packages/sklearn/linear_model/sag.py:326: ConvergenceWarning: The max_iter was reached which means the coef_ did not converge\n",
      "  \"the coef_ did not converge\", ConvergenceWarning)\n",
      "/Users/blairhudson/anaconda/lib/python3.5/site-packages/sklearn/linear_model/sag.py:326: ConvergenceWarning: The max_iter was reached which means the coef_ did not converge\n",
      "  \"the coef_ did not converge\", ConvergenceWarning)\n",
      "[Parallel(n_jobs=1)]: Done   3 out of   3 | elapsed:    0.1s finished\n"
     ]
    },
    {
     "name": "stdout",
     "output_type": "stream",
     "text": [
      "Fitting 3 folds for each of 1 candidates, totalling 3 fits\n",
      "[CV] fit_intercept=False, tol=1e-05, C=100.0, solver=saga, penalty=l1 \n",
      "[CV]  fit_intercept=False, tol=1e-05, C=100.0, solver=saga, penalty=l1, total=   0.0s\n",
      "[CV] fit_intercept=False, tol=1e-05, C=100.0, solver=saga, penalty=l1 \n",
      "[CV]  fit_intercept=False, tol=1e-05, C=100.0, solver=saga, penalty=l1, total=   0.0s\n",
      "[CV] fit_intercept=False, tol=1e-05, C=100.0, solver=saga, penalty=l1 \n",
      "[CV]  fit_intercept=False, tol=1e-05, C=100.0, solver=saga, penalty=l1, total=   0.0s\n"
     ]
    },
    {
     "name": "stderr",
     "output_type": "stream",
     "text": [
      "/Users/blairhudson/anaconda/lib/python3.5/site-packages/sklearn/linear_model/sag.py:326: ConvergenceWarning: The max_iter was reached which means the coef_ did not converge\n",
      "  \"the coef_ did not converge\", ConvergenceWarning)\n",
      "[Parallel(n_jobs=1)]: Done   1 out of   1 | elapsed:    0.0s remaining:    0.0s\n",
      "/Users/blairhudson/anaconda/lib/python3.5/site-packages/sklearn/linear_model/sag.py:326: ConvergenceWarning: The max_iter was reached which means the coef_ did not converge\n",
      "  \"the coef_ did not converge\", ConvergenceWarning)\n",
      "/Users/blairhudson/anaconda/lib/python3.5/site-packages/sklearn/linear_model/sag.py:326: ConvergenceWarning: The max_iter was reached which means the coef_ did not converge\n",
      "  \"the coef_ did not converge\", ConvergenceWarning)\n",
      "[Parallel(n_jobs=1)]: Done   3 out of   3 | elapsed:    0.1s finished\n"
     ]
    },
    {
     "name": "stdout",
     "output_type": "stream",
     "text": [
      "Fitting 3 folds for each of 1 candidates, totalling 3 fits\n",
      "[CV] fit_intercept=False, tol=9.55256066036e-05, C=0.0267622531962, solver=saga, penalty=l2 \n",
      "[CV]  fit_intercept=False, tol=9.55256066036e-05, C=0.0267622531962, solver=saga, penalty=l2, total=   0.0s\n",
      "[CV] fit_intercept=False, tol=9.55256066036e-05, C=0.0267622531962, solver=saga, penalty=l2 \n",
      "[CV]  fit_intercept=False, tol=9.55256066036e-05, C=0.0267622531962, solver=saga, penalty=l2, total=   0.0s\n",
      "[CV] fit_intercept=False, tol=9.55256066036e-05, C=0.0267622531962, solver=saga, penalty=l2 \n",
      "[CV]  fit_intercept=False, tol=9.55256066036e-05, C=0.0267622531962, solver=saga, penalty=l2, total=   0.0s\n"
     ]
    },
    {
     "name": "stderr",
     "output_type": "stream",
     "text": [
      "/Users/blairhudson/anaconda/lib/python3.5/site-packages/sklearn/linear_model/sag.py:326: ConvergenceWarning: The max_iter was reached which means the coef_ did not converge\n",
      "  \"the coef_ did not converge\", ConvergenceWarning)\n",
      "[Parallel(n_jobs=1)]: Done   1 out of   1 | elapsed:    0.0s remaining:    0.0s\n",
      "/Users/blairhudson/anaconda/lib/python3.5/site-packages/sklearn/linear_model/sag.py:326: ConvergenceWarning: The max_iter was reached which means the coef_ did not converge\n",
      "  \"the coef_ did not converge\", ConvergenceWarning)\n",
      "/Users/blairhudson/anaconda/lib/python3.5/site-packages/sklearn/linear_model/sag.py:326: ConvergenceWarning: The max_iter was reached which means the coef_ did not converge\n",
      "  \"the coef_ did not converge\", ConvergenceWarning)\n",
      "[Parallel(n_jobs=1)]: Done   3 out of   3 | elapsed:    0.1s finished\n"
     ]
    },
    {
     "name": "stdout",
     "output_type": "stream",
     "text": [
      "Fitting 3 folds for each of 1 candidates, totalling 3 fits\n",
      "[CV] fit_intercept=False, tol=2.14150718478e-05, C=100.0, solver=liblinear, penalty=l2 \n",
      "[CV]  fit_intercept=False, tol=2.14150718478e-05, C=100.0, solver=liblinear, penalty=l2, total=   0.0s\n",
      "[CV] fit_intercept=False, tol=2.14150718478e-05, C=100.0, solver=liblinear, penalty=l2 \n",
      "[CV]  fit_intercept=False, tol=2.14150718478e-05, C=100.0, solver=liblinear, penalty=l2, total=   0.0s\n",
      "[CV] fit_intercept=False, tol=2.14150718478e-05, C=100.0, solver=liblinear, penalty=l2 \n",
      "[CV]  fit_intercept=False, tol=2.14150718478e-05, C=100.0, solver=liblinear, penalty=l2, total=   0.0s\n"
     ]
    },
    {
     "name": "stderr",
     "output_type": "stream",
     "text": [
      "[Parallel(n_jobs=1)]: Done   1 out of   1 | elapsed:    0.0s remaining:    0.0s\n",
      "[Parallel(n_jobs=1)]: Done   3 out of   3 | elapsed:    0.0s finished\n"
     ]
    },
    {
     "name": "stdout",
     "output_type": "stream",
     "text": [
      "Fitting 3 folds for each of 1 candidates, totalling 3 fits\n",
      "[CV] fit_intercept=True, tol=1e-05, C=38.4658080596, solver=liblinear, penalty=l2 \n",
      "[CV]  fit_intercept=True, tol=1e-05, C=38.4658080596, solver=liblinear, penalty=l2, total=   0.0s\n",
      "[CV] fit_intercept=True, tol=1e-05, C=38.4658080596, solver=liblinear, penalty=l2 \n",
      "[CV]  fit_intercept=True, tol=1e-05, C=38.4658080596, solver=liblinear, penalty=l2, total=   0.0s\n",
      "[CV] fit_intercept=True, tol=1e-05, C=38.4658080596, solver=liblinear, penalty=l2 \n",
      "[CV]  fit_intercept=True, tol=1e-05, C=38.4658080596, solver=liblinear, penalty=l2, total=   0.0s\n"
     ]
    },
    {
     "name": "stderr",
     "output_type": "stream",
     "text": [
      "[Parallel(n_jobs=1)]: Done   1 out of   1 | elapsed:    0.0s remaining:    0.0s\n",
      "[Parallel(n_jobs=1)]: Done   3 out of   3 | elapsed:    0.0s finished\n"
     ]
    },
    {
     "name": "stdout",
     "output_type": "stream",
     "text": [
      "Fitting 3 folds for each of 1 candidates, totalling 3 fits\n",
      "[CV] fit_intercept=False, tol=0.001, C=3.18302458993, solver=liblinear, penalty=l2 \n",
      "[CV]  fit_intercept=False, tol=0.001, C=3.18302458993, solver=liblinear, penalty=l2, total=   0.0s\n",
      "[CV] fit_intercept=False, tol=0.001, C=3.18302458993, solver=liblinear, penalty=l2 \n",
      "[CV]  fit_intercept=False, tol=0.001, C=3.18302458993, solver=liblinear, penalty=l2, total=   0.0s\n",
      "[CV] fit_intercept=False, tol=0.001, C=3.18302458993, solver=liblinear, penalty=l2 \n",
      "[CV]  fit_intercept=False, tol=0.001, C=3.18302458993, solver=liblinear, penalty=l2, total=   0.0s\n"
     ]
    },
    {
     "name": "stderr",
     "output_type": "stream",
     "text": [
      "[Parallel(n_jobs=1)]: Done   1 out of   1 | elapsed:    0.0s remaining:    0.0s\n",
      "[Parallel(n_jobs=1)]: Done   3 out of   3 | elapsed:    0.0s finished\n"
     ]
    },
    {
     "name": "stdout",
     "output_type": "stream",
     "text": [
      "Fitting 3 folds for each of 1 candidates, totalling 3 fits\n",
      "[CV] fit_intercept=False, tol=1e-05, C=61.9366266622, solver=liblinear, penalty=l2 \n",
      "[CV]  fit_intercept=False, tol=1e-05, C=61.9366266622, solver=liblinear, penalty=l2, total=   0.0s\n",
      "[CV] fit_intercept=False, tol=1e-05, C=61.9366266622, solver=liblinear, penalty=l2 \n",
      "[CV]  fit_intercept=False, tol=1e-05, C=61.9366266622, solver=liblinear, penalty=l2, total=   0.0s\n",
      "[CV] fit_intercept=False, tol=1e-05, C=61.9366266622, solver=liblinear, penalty=l2 \n",
      "[CV]  fit_intercept=False, tol=1e-05, C=61.9366266622, solver=liblinear, penalty=l2, total=   0.0s\n"
     ]
    },
    {
     "name": "stderr",
     "output_type": "stream",
     "text": [
      "[Parallel(n_jobs=1)]: Done   1 out of   1 | elapsed:    0.0s remaining:    0.0s\n",
      "[Parallel(n_jobs=1)]: Done   3 out of   3 | elapsed:    0.0s finished\n"
     ]
    },
    {
     "name": "stdout",
     "output_type": "stream",
     "text": [
      "Fitting 3 folds for each of 1 candidates, totalling 3 fits\n",
      "[CV] fit_intercept=True, tol=1.52191042725e-05, C=1e-05, solver=liblinear, penalty=l2 \n",
      "[CV]  fit_intercept=True, tol=1.52191042725e-05, C=1e-05, solver=liblinear, penalty=l2, total=   0.0s\n",
      "[CV] fit_intercept=True, tol=1.52191042725e-05, C=1e-05, solver=liblinear, penalty=l2 \n",
      "[CV]  fit_intercept=True, tol=1.52191042725e-05, C=1e-05, solver=liblinear, penalty=l2, total=   0.0s\n",
      "[CV] fit_intercept=True, tol=1.52191042725e-05, C=1e-05, solver=liblinear, penalty=l2 \n",
      "[CV]  fit_intercept=True, tol=1.52191042725e-05, C=1e-05, solver=liblinear, penalty=l2, total=   0.0s\n"
     ]
    },
    {
     "name": "stderr",
     "output_type": "stream",
     "text": [
      "[Parallel(n_jobs=1)]: Done   1 out of   1 | elapsed:    0.0s remaining:    0.0s\n",
      "[Parallel(n_jobs=1)]: Done   3 out of   3 | elapsed:    0.0s finished\n"
     ]
    },
    {
     "name": "stdout",
     "output_type": "stream",
     "text": [
      "Fitting 3 folds for each of 1 candidates, totalling 3 fits\n",
      "[CV] fit_intercept=True, tol=5.84228443388e-05, C=100.0, solver=liblinear, penalty=l2 \n",
      "[CV]  fit_intercept=True, tol=5.84228443388e-05, C=100.0, solver=liblinear, penalty=l2, total=   0.0s\n",
      "[CV] fit_intercept=True, tol=5.84228443388e-05, C=100.0, solver=liblinear, penalty=l2 \n",
      "[CV]  fit_intercept=True, tol=5.84228443388e-05, C=100.0, solver=liblinear, penalty=l2, total=   0.0s\n",
      "[CV] fit_intercept=True, tol=5.84228443388e-05, C=100.0, solver=liblinear, penalty=l2 \n",
      "[CV]  fit_intercept=True, tol=5.84228443388e-05, C=100.0, solver=liblinear, penalty=l2, total=   0.0s\n"
     ]
    },
    {
     "name": "stderr",
     "output_type": "stream",
     "text": [
      "[Parallel(n_jobs=1)]: Done   1 out of   1 | elapsed:    0.0s remaining:    0.0s\n",
      "[Parallel(n_jobs=1)]: Done   3 out of   3 | elapsed:    0.0s finished\n"
     ]
    },
    {
     "name": "stdout",
     "output_type": "stream",
     "text": [
      "Fitting 3 folds for each of 1 candidates, totalling 3 fits\n",
      "[CV] fit_intercept=False, tol=0.00054754356556, C=0.00366650548222, solver=saga, penalty=l2 \n",
      "[CV]  fit_intercept=False, tol=0.00054754356556, C=0.00366650548222, solver=saga, penalty=l2, total=   0.0s\n",
      "[CV] fit_intercept=False, tol=0.00054754356556, C=0.00366650548222, solver=saga, penalty=l2 \n",
      "[CV]  fit_intercept=False, tol=0.00054754356556, C=0.00366650548222, solver=saga, penalty=l2, total=   0.0s\n",
      "[CV] fit_intercept=False, tol=0.00054754356556, C=0.00366650548222, solver=saga, penalty=l2 \n",
      "[CV]  fit_intercept=False, tol=0.00054754356556, C=0.00366650548222, solver=saga, penalty=l2, total=   0.0s\n"
     ]
    },
    {
     "name": "stderr",
     "output_type": "stream",
     "text": [
      "/Users/blairhudson/anaconda/lib/python3.5/site-packages/sklearn/linear_model/sag.py:326: ConvergenceWarning: The max_iter was reached which means the coef_ did not converge\n",
      "  \"the coef_ did not converge\", ConvergenceWarning)\n",
      "[Parallel(n_jobs=1)]: Done   1 out of   1 | elapsed:    0.0s remaining:    0.0s\n",
      "/Users/blairhudson/anaconda/lib/python3.5/site-packages/sklearn/linear_model/sag.py:326: ConvergenceWarning: The max_iter was reached which means the coef_ did not converge\n",
      "  \"the coef_ did not converge\", ConvergenceWarning)\n",
      "/Users/blairhudson/anaconda/lib/python3.5/site-packages/sklearn/linear_model/sag.py:326: ConvergenceWarning: The max_iter was reached which means the coef_ did not converge\n",
      "  \"the coef_ did not converge\", ConvergenceWarning)\n",
      "[Parallel(n_jobs=1)]: Done   3 out of   3 | elapsed:    0.1s finished\n"
     ]
    },
    {
     "name": "stdout",
     "output_type": "stream",
     "text": [
      "Fitting 3 folds for each of 1 candidates, totalling 3 fits\n",
      "[CV] fit_intercept=True, tol=1e-05, C=100.0, solver=liblinear, penalty=l2 \n",
      "[CV]  fit_intercept=True, tol=1e-05, C=100.0, solver=liblinear, penalty=l2, total=   0.0s\n",
      "[CV] fit_intercept=True, tol=1e-05, C=100.0, solver=liblinear, penalty=l2 \n",
      "[CV]  fit_intercept=True, tol=1e-05, C=100.0, solver=liblinear, penalty=l2, total=   0.0s\n",
      "[CV] fit_intercept=True, tol=1e-05, C=100.0, solver=liblinear, penalty=l2 \n",
      "[CV]  fit_intercept=True, tol=1e-05, C=100.0, solver=liblinear, penalty=l2, total=   0.0s\n"
     ]
    },
    {
     "name": "stderr",
     "output_type": "stream",
     "text": [
      "[Parallel(n_jobs=1)]: Done   1 out of   1 | elapsed:    0.0s remaining:    0.0s\n",
      "[Parallel(n_jobs=1)]: Done   3 out of   3 | elapsed:    0.0s finished\n"
     ]
    },
    {
     "name": "stdout",
     "output_type": "stream",
     "text": [
      "Fitting 3 folds for each of 1 candidates, totalling 3 fits\n",
      "[CV] fit_intercept=True, tol=5.54807277677e-05, C=0.825090969286, solver=saga, penalty=l1 \n",
      "[CV]  fit_intercept=True, tol=5.54807277677e-05, C=0.825090969286, solver=saga, penalty=l1, total=   0.0s\n",
      "[CV] fit_intercept=True, tol=5.54807277677e-05, C=0.825090969286, solver=saga, penalty=l1 \n",
      "[CV]  fit_intercept=True, tol=5.54807277677e-05, C=0.825090969286, solver=saga, penalty=l1, total=   0.0s\n",
      "[CV] fit_intercept=True, tol=5.54807277677e-05, C=0.825090969286, solver=saga, penalty=l1 \n",
      "[CV]  fit_intercept=True, tol=5.54807277677e-05, C=0.825090969286, solver=saga, penalty=l1, total=   0.0s\n"
     ]
    },
    {
     "name": "stderr",
     "output_type": "stream",
     "text": [
      "/Users/blairhudson/anaconda/lib/python3.5/site-packages/sklearn/linear_model/sag.py:326: ConvergenceWarning: The max_iter was reached which means the coef_ did not converge\n",
      "  \"the coef_ did not converge\", ConvergenceWarning)\n",
      "[Parallel(n_jobs=1)]: Done   1 out of   1 | elapsed:    0.0s remaining:    0.0s\n",
      "/Users/blairhudson/anaconda/lib/python3.5/site-packages/sklearn/linear_model/sag.py:326: ConvergenceWarning: The max_iter was reached which means the coef_ did not converge\n",
      "  \"the coef_ did not converge\", ConvergenceWarning)\n",
      "/Users/blairhudson/anaconda/lib/python3.5/site-packages/sklearn/linear_model/sag.py:326: ConvergenceWarning: The max_iter was reached which means the coef_ did not converge\n",
      "  \"the coef_ did not converge\", ConvergenceWarning)\n",
      "[Parallel(n_jobs=1)]: Done   3 out of   3 | elapsed:    0.1s finished\n",
      "/Users/blairhudson/anaconda/lib/python3.5/site-packages/skopt/optimizer/optimizer.py:366: UserWarning: The objective has been evaluated at this point before.\n",
      "  warnings.warn(\"The objective has been evaluated \"\n"
     ]
    },
    {
     "name": "stdout",
     "output_type": "stream",
     "text": [
      "Fitting 3 folds for each of 1 candidates, totalling 3 fits\n",
      "[CV] fit_intercept=True, tol=1e-05, C=100.0, solver=liblinear, penalty=l2 \n",
      "[CV]  fit_intercept=True, tol=1e-05, C=100.0, solver=liblinear, penalty=l2, total=   0.0s\n",
      "[CV] fit_intercept=True, tol=1e-05, C=100.0, solver=liblinear, penalty=l2 \n",
      "[CV]  fit_intercept=True, tol=1e-05, C=100.0, solver=liblinear, penalty=l2, total=   0.0s\n",
      "[CV] fit_intercept=True, tol=1e-05, C=100.0, solver=liblinear, penalty=l2 \n",
      "[CV]  fit_intercept=True, tol=1e-05, C=100.0, solver=liblinear, penalty=l2, total=   0.0s\n"
     ]
    },
    {
     "name": "stderr",
     "output_type": "stream",
     "text": [
      "[Parallel(n_jobs=1)]: Done   1 out of   1 | elapsed:    0.0s remaining:    0.0s\n",
      "[Parallel(n_jobs=1)]: Done   3 out of   3 | elapsed:    0.0s finished\n"
     ]
    },
    {
     "name": "stdout",
     "output_type": "stream",
     "text": [
      "Fitting 3 folds for each of 1 candidates, totalling 3 fits\n",
      "[CV] fit_intercept=True, tol=1e-05, C=63.2457136517, solver=saga, penalty=l2 \n",
      "[CV]  fit_intercept=True, tol=1e-05, C=63.2457136517, solver=saga, penalty=l2, total=   0.0s\n",
      "[CV] fit_intercept=True, tol=1e-05, C=63.2457136517, solver=saga, penalty=l2 \n",
      "[CV]  fit_intercept=True, tol=1e-05, C=63.2457136517, solver=saga, penalty=l2, total=   0.0s\n",
      "[CV] fit_intercept=True, tol=1e-05, C=63.2457136517, solver=saga, penalty=l2 \n",
      "[CV]  fit_intercept=True, tol=1e-05, C=63.2457136517, solver=saga, penalty=l2, total=   0.0s\n"
     ]
    },
    {
     "name": "stderr",
     "output_type": "stream",
     "text": [
      "/Users/blairhudson/anaconda/lib/python3.5/site-packages/sklearn/linear_model/sag.py:326: ConvergenceWarning: The max_iter was reached which means the coef_ did not converge\n",
      "  \"the coef_ did not converge\", ConvergenceWarning)\n",
      "[Parallel(n_jobs=1)]: Done   1 out of   1 | elapsed:    0.0s remaining:    0.0s\n",
      "/Users/blairhudson/anaconda/lib/python3.5/site-packages/sklearn/linear_model/sag.py:326: ConvergenceWarning: The max_iter was reached which means the coef_ did not converge\n",
      "  \"the coef_ did not converge\", ConvergenceWarning)\n",
      "/Users/blairhudson/anaconda/lib/python3.5/site-packages/sklearn/linear_model/sag.py:326: ConvergenceWarning: The max_iter was reached which means the coef_ did not converge\n",
      "  \"the coef_ did not converge\", ConvergenceWarning)\n",
      "[Parallel(n_jobs=1)]: Done   3 out of   3 | elapsed:    0.1s finished\n"
     ]
    }
   ],
   "source": [
    "from skopt import BayesSearchCV\n",
    "from sklearn.datasets import load_breast_cancer\n",
    "from sklearn.model_selection import train_test_split\n",
    "from sklearn.linear_model import LogisticRegression\n",
    "\n",
    "# prep some sample data\n",
    "X, y = load_breast_cancer(return_X_y=True)\n",
    "X_train, X_test, y_train, y_test = train_test_split(X, y, train_size=0.75, random_state=1234)\n",
    "\n",
    "# we're using a logistic regression model\n",
    "clf = LogisticRegression(random_state=1234, verbose=0)\n",
    "\n",
    "# this is our parameter grid\n",
    "param_grid = {\n",
    "    'solver': ['liblinear', 'saga'],  \n",
    "    'penalty': ['l1','l2'],\n",
    "    'tol': (1e-5, 1e-3, 'log-uniform'),\n",
    "    'C': (1e-5, 100, 'log-uniform'),\n",
    "    'fit_intercept': [True, False]\n",
    "}\n",
    "\n",
    "# set up our optimiser to find the best params in 30 searches\n",
    "opt = BayesSearchCV(\n",
    "    clf,\n",
    "    param_grid,\n",
    "    n_iter=30,\n",
    "    random_state=1234,\n",
    "    verbose=2\n",
    ")\n",
    "\n",
    "opt.fit(X_train, y_train)"
   ]
  },
  {
   "cell_type": "code",
   "execution_count": 4,
   "metadata": {},
   "outputs": [
    {
     "name": "stdout",
     "output_type": "stream",
     "text": [
      "Best params achieve a test score of 0.951048951049 :\n"
     ]
    },
    {
     "data": {
      "text/plain": [
       "{'C': 100.0,\n",
       " 'fit_intercept': True,\n",
       " 'penalty': 'l2',\n",
       " 'solver': 'liblinear',\n",
       " 'tol': 1.0000000000000001e-05}"
      ]
     },
     "execution_count": 4,
     "metadata": {},
     "output_type": "execute_result"
    }
   ],
   "source": [
    "print('Best params achieve a test score of', opt.score(X_test, y_test), ':')\n",
    "\n",
    "opt.best_params_"
   ]
  },
  {
   "cell_type": "markdown",
   "metadata": {},
   "source": [
    "By increasing the value of `n_iter`, you can continue the search to find better parameter combinations. You can also use the optimiser for prediction, by calling `.predict()` or `.predict_proba()` for probabilities, or extract and use the best one standalone:"
   ]
  },
  {
   "cell_type": "code",
   "execution_count": 5,
   "metadata": {},
   "outputs": [
    {
     "data": {
      "text/plain": [
       "LogisticRegression(C=100.0, class_weight=None, dual=False, fit_intercept=True,\n",
       "          intercept_scaling=1, max_iter=100, multi_class='ovr', n_jobs=1,\n",
       "          penalty='l2', random_state=1234, solver='liblinear',\n",
       "          tol=1.0000000000000001e-05, verbose=0, warm_start=False)"
      ]
     },
     "execution_count": 5,
     "metadata": {},
     "output_type": "execute_result"
    }
   ],
   "source": [
    "opt.best_estimator_"
   ]
  },
  {
   "cell_type": "markdown",
   "metadata": {},
   "source": [
    "You may also find it useful to re-use the best parameters programatically to define an equivalent model:"
   ]
  },
  {
   "cell_type": "code",
   "execution_count": 6,
   "metadata": {},
   "outputs": [
    {
     "data": {
      "text/plain": [
       "LogisticRegression(C=100.0, class_weight=None, dual=False, fit_intercept=True,\n",
       "          intercept_scaling=1, max_iter=100, multi_class='ovr', n_jobs=1,\n",
       "          penalty='l2', random_state=None, solver='liblinear',\n",
       "          tol=1.0000000000000001e-05, verbose=0, warm_start=False)"
      ]
     },
     "execution_count": 6,
     "metadata": {},
     "output_type": "execute_result"
    }
   ],
   "source": [
    "LogisticRegression(**opt.best_params_)"
   ]
  }
 ],
 "metadata": {
  "kernelspec": {
   "display_name": "Python [conda root]",
   "language": "python",
   "name": "conda-root-py"
  },
  "language_info": {
   "codemirror_mode": {
    "name": "ipython",
    "version": 3
   },
   "file_extension": ".py",
   "mimetype": "text/x-python",
   "name": "python",
   "nbconvert_exporter": "python",
   "pygments_lexer": "ipython3",
   "version": "3.5.3"
  }
 },
 "nbformat": 4,
 "nbformat_minor": 2
}

{
 "cells": [
  {
   "cell_type": "markdown",
   "metadata": {
    "collapsed": true
   },
   "source": [
    "Jupyter is a popular data science environment, and Jupyter notebooks (such as [the notebook this post](/posts/using-jupyter-notebooks-with-anaconda/index.ipynb) was written with) are a great way to create and share great data science with inline documentation (using Markdown syntax).\n",
    "\n",
    "Jupyter is capable of running kernels in many different programming languages, but in this post we're focussed just on Python.\n",
    "\n",
    "## Installing Anaconda\n",
    "\n",
    "1. Download Anaconda for your operating system from the [Anaconda website](https://www.anaconda.com/download). For best compatibility with modern data science packages, I suggest Python 3.6 version or newer.\n",
    "2. Run the downloaded installer and follow the prompts.\n",
    "\n",
    "## Launching Jupyter\n",
    "\n",
    "1. Run the following command to launch the Jupyter environment in your current directory:\n",
    "    `jupyter notebook`\n",
    "2. By default, this will open the web interface in your default web browser, and by default at [http://localhost:8888/](http://localhost:8888/).\n",
    "3. Now you can select an existing `.ipynb` file from the file navigator to open it, or create a new notebook.\n",
    "\n",
    "🚀"
   ]
  }
 ],
 "metadata": {
  "kernelspec": {
   "display_name": "Python [default]",
   "language": "python",
   "name": "python3"
  },
  "language_info": {
   "codemirror_mode": {
    "name": "ipython",
    "version": 3
   },
   "file_extension": ".py",
   "mimetype": "text/x-python",
   "name": "python",
   "nbconvert_exporter": "python",
   "pygments_lexer": "ipython3",
   "version": "3.5.3"
  }
 },
 "nbformat": 4,
 "nbformat_minor": 2
}

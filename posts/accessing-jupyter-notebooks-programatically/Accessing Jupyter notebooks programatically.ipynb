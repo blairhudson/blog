{
 "cells": [
  {
   "cell_type": "markdown",
   "metadata": {},
   "source": [
    "You may have seen a previous post where we [created a simple classifier](/posts/introduction-to-classification-using-logistic-regression-with-scikit-learn) using Scikit-Learn's `LogisticRegression`.\n",
    "\n",
    "As we pieced together our model, we structured the code into a class called `CustomModel`, with two functions: `fit` and `predict`.\n",
    "\n",
    "To start working programatically with the notebook created in that post, you will first need to install the `ipynb` package:\n",
    "\n",
    "```\n",
    "pip install git+https://github.com/blairhudson/ipynb\n",
    "```\n",
    "\n",
    "(Note: This is actually a fork of an [IPython repo](https://github.com/ipython/ipynb). Unfortunately the master has a bug with parsing tuple-based assignments (e.g. `X, y = ...`). A [pull request](https://github.com/ipython/ipynb/pull/34) has been submitted.)\n",
    "\n",
    "Now you're ready to go!\n",
    "\n",
    "## Using the ipynb package\n",
    "\n",
    "To simplify things considerably, make sure that you have a copy of [the source](/posts/introduction-to-classification-using-logistic-regression-with-scikit-learn/Introduction to Classification using Logistic Regression with Scikit-Learn.ipynb) in the current working directory, and rename it to `model.ipynb`.\n",
    "\n",
    "Now, thanks to the `ipynb` package you can access the `CustomModel` class like this:"
   ]
  },
  {
   "cell_type": "code",
   "execution_count": 5,
   "metadata": {
    "collapsed": true
   },
   "outputs": [],
   "source": [
    "from ipynb.fs.defs.model import CustomModel"
   ]
  },
  {
   "cell_type": "markdown",
   "metadata": {},
   "source": [
    "To prove it, let's generate predictions on the same sample data:"
   ]
  },
  {
   "cell_type": "code",
   "execution_count": 6,
   "metadata": {},
   "outputs": [
    {
     "data": {
      "text/plain": [
       "array([  9.25168417e-01,   9.99922130e-01,   9.53635418e-01,\n",
       "         9.88416588e-01,   9.97542577e-01,   9.95232506e-01,\n",
       "         4.60659258e-02,   9.98390194e-01,   6.59002902e-10,\n",
       "         2.76899836e-06,   8.30718694e-10,   9.63993586e-01,\n",
       "         9.94157890e-01,   9.50980576e-01,   9.96974859e-01,\n",
       "         6.97038792e-10,   9.99809391e-01,   9.96431765e-01,\n",
       "         9.99363563e-01,   8.43800531e-06,   9.95502414e-01,\n",
       "         7.77576547e-03,   1.12727716e-09,   3.40904102e-17,\n",
       "         3.68627970e-09,   6.55649762e-01,   3.51723839e-03,\n",
       "         9.97326888e-01,   9.98785233e-01,   9.97552026e-01,\n",
       "         9.86350517e-01,   9.98844211e-01,   5.70842717e-04,\n",
       "         9.87742427e-01,   9.19814189e-01,   9.78443649e-01,\n",
       "         9.92882821e-01,   1.14676290e-02,   1.48817234e-01,\n",
       "         9.98733024e-01,   4.13813658e-05,   9.93177003e-01,\n",
       "         1.72319657e-10,   8.54534408e-01,   8.81187668e-01,\n",
       "         9.97568264e-01,   9.98086681e-01,   8.32784885e-01,\n",
       "         4.49929586e-11,   8.89087737e-01,   9.28259947e-01,\n",
       "         9.91244116e-01,   9.94876558e-01,   1.51106510e-08,\n",
       "         2.60668778e-01,   9.99597520e-01,   9.98940073e-01,\n",
       "         9.99968817e-01,   9.91318570e-01,   8.29369844e-03,\n",
       "         9.93238377e-01,   9.92431535e-01,   9.29775117e-01,\n",
       "         9.99271713e-01,   9.96474598e-01,   2.41572863e-04,\n",
       "         1.51376226e-11,   9.97330558e-01,   9.98831771e-01,\n",
       "         4.79400697e-01,   9.99798779e-01,   3.57307727e-07,\n",
       "         9.99656809e-01,   7.03641088e-01,   9.98247027e-01,\n",
       "         9.96093354e-01,   9.99588791e-01,   2.58369708e-08,\n",
       "         9.98136922e-01,   7.97865310e-03,   9.99065333e-01,\n",
       "         9.98470351e-01,   9.94581260e-01,   9.29328694e-01,\n",
       "         1.41996390e-02,   1.43214384e-04,   3.71155631e-05,\n",
       "         4.45838811e-06,   9.13207438e-01,   8.56295696e-01,\n",
       "         9.99467328e-01,   9.74324559e-01,   9.99328632e-01,\n",
       "         2.91312374e-12,   1.00998256e-01,   9.86992421e-01,\n",
       "         9.97149193e-01,   9.13815924e-01,   9.98807818e-01,\n",
       "         9.84005486e-01,   3.17865443e-08,   2.30937811e-11,\n",
       "         9.98036358e-01,   9.99532884e-01,   1.24075526e-03,\n",
       "         9.98819765e-01,   9.99752279e-01,   8.53677349e-04,\n",
       "         1.53192255e-01,   9.30832406e-01,   1.49723823e-05,\n",
       "         5.28688983e-01,   1.48786146e-03,   9.92804571e-51,\n",
       "         8.86447353e-01,   9.95516043e-01,   9.98554149e-01,\n",
       "         1.75078944e-03,   9.99922978e-01,   4.67159833e-01,\n",
       "         9.99825913e-01,   9.57716419e-01,   9.95069689e-01,\n",
       "         9.98728887e-01,   7.49375338e-14,   9.92513330e-01,\n",
       "         1.49918676e-02,   1.63977226e-02,   9.95785292e-01,\n",
       "         9.56124754e-01,   3.53639065e-01,   9.96011137e-01,\n",
       "         7.27728677e-33,   9.97779030e-01,   7.77872222e-02,\n",
       "         9.90058068e-01,   9.80367925e-01,   2.92408222e-01,\n",
       "         9.98164180e-01,   1.67926421e-01,   9.99996297e-01,\n",
       "         6.35631576e-10,   1.06440027e-01])"
      ]
     },
     "execution_count": 6,
     "metadata": {},
     "output_type": "execute_result"
    }
   ],
   "source": [
    "from sklearn.datasets import load_breast_cancer\n",
    "from sklearn.model_selection import train_test_split\n",
    "\n",
    "X, y = load_breast_cancer(return_X_y=True)\n",
    "\n",
    "X_train, X_test, y_train, y_test = train_test_split(X, y, \n",
    "                                                    train_size=0.75, \n",
    "                                                    test_size=0.25, \n",
    "                                                    random_state=1234) # more reproducibility\n",
    "\n",
    "# load our model\n",
    "model = CustomModel()\n",
    "\n",
    "# fit our model\n",
    "model.fit(X_train, y_train)\n",
    "\n",
    "# generate some predictions\n",
    "model.predict(X_test)"
   ]
  },
  {
   "cell_type": "markdown",
   "metadata": {},
   "source": [
    "Magic ✨"
   ]
  }
 ],
 "metadata": {
  "kernelspec": {
   "display_name": "Python [conda root]",
   "language": "python",
   "name": "conda-root-py"
  },
  "language_info": {
   "codemirror_mode": {
    "name": "ipython",
    "version": 3
   },
   "file_extension": ".py",
   "mimetype": "text/x-python",
   "name": "python",
   "nbconvert_exporter": "python",
   "pygments_lexer": "ipython3",
   "version": "3.5.3"
  }
 },
 "nbformat": 4,
 "nbformat_minor": 2
}
